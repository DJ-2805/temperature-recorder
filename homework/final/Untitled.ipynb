{
 "cells": [
  {
   "cell_type": "code",
   "execution_count": 1,
   "metadata": {},
   "outputs": [],
   "source": [
    "from pyfirmata import Arduino,util\n",
    "from time import sleep,time"
   ]
  },
  {
   "cell_type": "code",
   "execution_count": 2,
   "metadata": {},
   "outputs": [],
   "source": [
    "# initial values for arduino\n",
    "port = '/dev/ttyUSB0'\n",
    "\n",
    "# Arduino machine starting up\n",
    "# probably not evil\n",
    "hal9001 = Arduino(port)\n",
    "\n",
    "it = util.Iterator(hal9001)\n",
    "it.start()"
   ]
  },
  {
   "cell_type": "code",
   "execution_count": 3,
   "metadata": {},
   "outputs": [],
   "source": [
    "tempPin = hal9001.get_pin('a:0:i')\n",
    "sleep(1)\n",
    "ledPin = hal9001.get_pin('d:11:p')\n",
    "sleep(1)"
   ]
  },
  {
   "cell_type": "code",
   "execution_count": 5,
   "metadata": {},
   "outputs": [],
   "source": [
    "a = 9.57e-04\n",
    "b = 3.15e-04\n",
    "c = -1.17e-05\n",
    "d = 6.23e-07"
   ]
  },
  {
   "cell_type": "code",
   "execution_count": 4,
   "metadata": {},
   "outputs": [
    {
     "data": {
      "text/plain": [
       "2.576"
      ]
     },
     "execution_count": 4,
     "metadata": {},
     "output_type": "execute_result"
    }
   ],
   "source": [
    "tempPin.read()*5"
   ]
  },
  {
   "cell_type": "code",
   "execution_count": null,
   "metadata": {},
   "outputs": [],
   "source": []
  },
  {
   "cell_type": "code",
   "execution_count": null,
   "metadata": {},
   "outputs": [],
   "source": [
    "start_time = time()\n",
    "dur = 30\n",
    "\n",
    "run = True\n",
    "\n",
    "while run:\n",
    "    val = \n"
   ]
  },
  {
   "cell_type": "code",
   "execution_count": null,
   "metadata": {},
   "outputs": [],
   "source": [
    "import pyfirmata\n",
    "\n",
    "board = pyfirmata.Arduino('COM3')\n",
    "it = pyfirmata.util.Iterator(board)\n",
    "it.start()\n",
    "\n",
    "sw = board.get_pin('d:2:i')\n",
    "led = board.get_pin('d:6:o')\n",
    "\n",
    "while True:\n",
    "    value = sw.read()\n",
    "    \n",
    "    if value == 1:\n",
    "        led.write(1)\n",
    "    else:\n",
    "        led.write(0)\n",
    "    \n",
    "board.exit()"
   ]
  },
  {
   "cell_type": "code",
   "execution_count": 22,
   "metadata": {},
   "outputs": [],
   "source": [
    "pin2.write(0)"
   ]
  },
  {
   "cell_type": "code",
   "execution_count": 19,
   "metadata": {},
   "outputs": [],
   "source": [
    "pin1.write(.90)"
   ]
  },
  {
   "cell_type": "code",
   "execution_count": 4,
   "metadata": {},
   "outputs": [],
   "source": [
    "a = 9.57e-04\n",
    "b = 3.15e-04\n",
    "c = -1.17e-05\n",
    "d = 6.23e-07"
   ]
  },
  {
   "cell_type": "code",
   "execution_count": 8,
   "metadata": {},
   "outputs": [
    {
     "name": "stdout",
     "output_type": "stream",
     "text": [
      "<dataAcquisition.Channel object at 0x7fd60a8f69e8> 23.39757993810059\n",
      "<dataAcquisition.Channel object at 0x7fd60a8f69e8> 23.39757993810059\n",
      "<dataAcquisition.Channel object at 0x7fd60a8f69e8> 23.39757993810059\n",
      "<dataAcquisition.Channel object at 0x7fd60a8f69e8> 24.01860097139331\n",
      "<dataAcquisition.Channel object at 0x7fd60a8f69e8> 29.925718032715054\n",
      "<dataAcquisition.Channel object at 0x7fd60a8f69e8> 35.26338285677724\n",
      "<dataAcquisition.Channel object at 0x7fd60a8f69e8> 39.011438154850794\n",
      "<dataAcquisition.Channel object at 0x7fd60a8f69e8> 41.57072958938443\n",
      "<dataAcquisition.Channel object at 0x7fd60a8f69e8> 43.1070583794052\n",
      "<dataAcquisition.Channel object at 0x7fd60a8f69e8> 44.35988420532243\n",
      "<dataAcquisition.Channel object at 0x7fd60a8f69e8> 45.16491811770919\n",
      "<dataAcquisition.Channel object at 0x7fd60a8f69e8> 45.874235593007825\n",
      "<dataAcquisition.Channel object at 0x7fd60a8f69e8> 46.471364174152654\n",
      "<dataAcquisition.Channel object at 0x7fd60a8f69e8> 46.70493634535586\n",
      "<dataAcquisition.Channel object at 0x7fd60a8f69e8> 46.95205965408195\n",
      "<dataAcquisition.Channel object at 0x7fd60a8f69e8> 46.95205965408195\n",
      "<dataAcquisition.Channel object at 0x7fd60a8f69e8> 47.4377440021093\n",
      "<dataAcquisition.Channel object at 0x7fd60a8f69e8> 47.4377440021093\n",
      "<dataAcquisition.Channel object at 0x7fd60a8f69e8> 47.4377440021093\n",
      "<dataAcquisition.Channel object at 0x7fd60a8f69e8> 47.56310239548185\n",
      "<dataAcquisition.Channel object at 0x7fd60a8f69e8> 47.4377440021093\n",
      "<dataAcquisition.Channel object at 0x7fd60a8f69e8> 47.68880280417682\n",
      "<dataAcquisition.Channel object at 0x7fd60a8f69e8> 47.56310239548185\n",
      "<dataAcquisition.Channel object at 0x7fd60a8f69e8> 47.56310239548185\n",
      "<dataAcquisition.Channel object at 0x7fd60a8f69e8> 47.68880280417682\n",
      "<dataAcquisition.Channel object at 0x7fd60a8f69e8> 47.56310239548185\n",
      "<dataAcquisition.Channel object at 0x7fd60a8f69e8> 47.56310239548185\n",
      "<dataAcquisition.Channel object at 0x7fd60a8f69e8> 47.68880280417682\n",
      "<dataAcquisition.Channel object at 0x7fd60a8f69e8> 47.56310239548185\n",
      "<dataAcquisition.Channel object at 0x7fd60a8f69e8> 47.56310239548185\n"
     ]
    },
    {
     "ename": "IndexError",
     "evalue": "index 30 is out of bounds for axis 0 with size 30",
     "output_type": "error",
     "traceback": [
      "\u001b[0;31m---------------------------------------------------------------------------\u001b[0m",
      "\u001b[0;31mIndexError\u001b[0m                                Traceback (most recent call last)",
      "\u001b[0;32m<ipython-input-8-b9f17be96de4>\u001b[0m in \u001b[0;36m<module>\u001b[0;34m\u001b[0m\n\u001b[1;32m     23\u001b[0m \u001b[0;34m\u001b[0m\u001b[0m\n\u001b[1;32m     24\u001b[0m         \u001b[0;31m# records values\u001b[0m\u001b[0;34m\u001b[0m\u001b[0;34m\u001b[0m\u001b[0;34m\u001b[0m\u001b[0m\n\u001b[0;32m---> 25\u001b[0;31m         \u001b[0mi\u001b[0m\u001b[0;34m.\u001b[0m\u001b[0mrecoValue\u001b[0m\u001b[0;34m(\u001b[0m\u001b[0mcounter\u001b[0m\u001b[0;34m,\u001b[0m\u001b[0mtemp\u001b[0m\u001b[0;34m)\u001b[0m\u001b[0;34m\u001b[0m\u001b[0;34m\u001b[0m\u001b[0m\n\u001b[0m\u001b[1;32m     26\u001b[0m         \u001b[0mj\u001b[0m\u001b[0;34m+=\u001b[0m\u001b[0;36m1\u001b[0m\u001b[0;34m\u001b[0m\u001b[0;34m\u001b[0m\u001b[0m\n\u001b[1;32m     27\u001b[0m     \u001b[0mcounter\u001b[0m\u001b[0;34m+=\u001b[0m\u001b[0;36m1\u001b[0m\u001b[0;34m\u001b[0m\u001b[0;34m\u001b[0m\u001b[0m\n",
      "\u001b[0;32m~/Documents/class/epss_171_computingGeoscience/aurnouWinter19/temperature-recorder/homework/final/dataAcquisition.py\u001b[0m in \u001b[0;36mrecoValue\u001b[0;34m(self, index, value)\u001b[0m\n\u001b[1;32m    145\u001b[0m     '''\n\u001b[1;32m    146\u001b[0m     \u001b[0;32mdef\u001b[0m \u001b[0mrecoValue\u001b[0m\u001b[0;34m(\u001b[0m\u001b[0mself\u001b[0m\u001b[0;34m,\u001b[0m\u001b[0mindex\u001b[0m\u001b[0;34m,\u001b[0m\u001b[0mvalue\u001b[0m\u001b[0;34m)\u001b[0m\u001b[0;34m:\u001b[0m\u001b[0;34m\u001b[0m\u001b[0;34m\u001b[0m\u001b[0m\n\u001b[0;32m--> 147\u001b[0;31m         \u001b[0mself\u001b[0m\u001b[0;34m.\u001b[0m\u001b[0mdata\u001b[0m\u001b[0;34m[\u001b[0m\u001b[0mindex\u001b[0m\u001b[0;34m]\u001b[0m \u001b[0;34m=\u001b[0m \u001b[0mvalue\u001b[0m\u001b[0;34m\u001b[0m\u001b[0;34m\u001b[0m\u001b[0m\n\u001b[0m\u001b[1;32m    148\u001b[0m \u001b[0;34m\u001b[0m\u001b[0m\n\u001b[1;32m    149\u001b[0m     '''\n",
      "\u001b[0;31mIndexError\u001b[0m: index 30 is out of bounds for axis 0 with size 30"
     ]
    }
   ],
   "source": [
    "# starting timer\n",
    "start_time = time()\n",
    "timepoints = []\n",
    "view_time = 5\n",
    "duration = dur\n",
    "pause = step\n",
    "\n",
    "run = True;\n",
    "\n",
    "counter = 0\n",
    "# loop that collects data points\n",
    "while run:\n",
    "    # get current moment of time\n",
    "    timepoints.append(time()-start_time)\n",
    "    current_time = timepoints[-1]\n",
    "    \n",
    "    j = 0\n",
    "    for i in hal9001:\n",
    "        # nested equation is the voltage reading\n",
    "        # next level calculates the resistance\n",
    "        # final level calculates temperature\n",
    "        temp = i.calcTemperature(i.calcResistance(i.readVoltage()),a,b,c,d)\n",
    "        \n",
    "        # records values\n",
    "        i.recoValue(counter,temp)\n",
    "        j+=1\n",
    "    counter+=1\n",
    "    \n",
    "    # intermittent save\n",
    "    if(True):\n",
    "#         hal9001.saveData(timepoints)\n",
    "        for i in hal9001:\n",
    "            volt = i.readVoltage()\n",
    "            res = i.calcResistance(volt)\n",
    "            temp = i.calcTemperature(res,a,b,c,d)\n",
    "            print(i,temp)\n",
    "        \n",
    "    # if time passes duration, exit out of loop\n",
    "    if timepoints[-1] > duration:\n",
    "        run=False\n",
    "        \n",
    "    # pause for a moment to collect values consistently\n",
    "    sleep(pause)\n",
    "    \n",
    "# final save of data\n",
    "# hal9001.cleanData()\n",
    "# hal9001.saveData()"
   ]
  }
 ],
 "metadata": {
  "kernelspec": {
   "display_name": "epss171",
   "language": "python",
   "name": "epss171"
  },
  "language_info": {
   "codemirror_mode": {
    "name": "ipython",
    "version": 3
   },
   "file_extension": ".py",
   "mimetype": "text/x-python",
   "name": "python",
   "nbconvert_exporter": "python",
   "pygments_lexer": "ipython3",
   "version": "3.7.2"
  }
 },
 "nbformat": 4,
 "nbformat_minor": 2
}
