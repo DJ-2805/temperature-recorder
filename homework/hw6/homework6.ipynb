{
 "cells": [
  {
   "cell_type": "code",
   "execution_count": 1,
   "metadata": {},
   "outputs": [],
   "source": [
    "import matplotlib.pyplot as plt\n",
    "import scipy.io as sio\n",
    "import datetime as dt\n",
    "import numpy as np\n",
    "import daq\n",
    "from time import time,sleep\n",
    "from lmfit import minimize, Parameters\n",
    "now = dt.datetime.now().strftime(\"%Y-%m-%d\")"
   ]
  },
  {
   "cell_type": "code",
   "execution_count": 2,
   "metadata": {},
   "outputs": [
    {
     "name": "stdout",
     "output_type": "stream",
     "text": [
      "0.0\n",
      "0.078\n",
      "0.1615\n",
      "0.21999999999999997\n",
      "0.264\n",
      "0.303\n",
      "Readings nominal\n"
     ]
    }
   ],
   "source": [
    "daq.initHal()"
   ]
  },
  {
   "cell_type": "code",
   "execution_count": 38,
   "metadata": {},
   "outputs": [],
   "source": [
    "%matplotlib notebook\n",
    "\n",
    "plt.ion()\n",
    "\n",
    "start_time = time()\n",
    "timepoints = []\n",
    "view_time = 1\n",
    "duration = 30\n",
    "\n",
    "channels = {\n",
    "    0:[],1:[],2:[],\n",
    "    3:[],4:[],5:[]\n",
    "}\n",
    "\n",
    "fig1 = plt.figure()\n",
    "# http://matplotlib.org/users/text_props.html\n",
    "fig1.suptitle('live updated data', fontsize='18', fontweight='bold')\n",
    "plt.xlabel('time, seconds', fontsize='14', fontstyle='italic')\n",
    "plt.ylabel('potential, volts', fontsize='14', fontstyle='italic')\n",
    "plt.axes().grid(True)\n",
    "line1, = plt.plot(ydata,marker='o',markersize=4,linestyle='none',markerfacecolor='red')\n",
    "plt.ylim(yrange)\n",
    "plt.xlim([0,view_time])\n",
    "\n",
    "run = True;\n",
    "\n",
    "while run:\n",
    "    data = daq.readHal()\n",
    "    for i in channels:\n",
    "        channels[i].append(data[i])\n",
    "    timepoints.append(time()-start_time)\n",
    "    current_time = timepoints[-1]\n",
    "    \n",
    "    # update the plotted data\n",
    "    line1.set_xdata(timepoints)\n",
    "    line1.set_ydata(ydata)\n",
    "    \n",
    "    # slide the viewing frame along\n",
    "    if current_time > view_time:\n",
    "        plt.xlim([current_time-view_time,current_time])\n",
    "    \n",
    "    if timepoints[-1] > duration: run=False\n",
    "        \n",
    "    # update the plot\n",
    "    fig1.canvas.draw()\n",
    "    sleep(1)\n",
    "    \n",
    "# plot all of the data you collected\n",
    "fig2 = plt.figure()\n",
    "# http://matplotlib.org/users/text_props.html\n",
    "fig2.suptitle('complete data trace', fontsize='18', fontweight='bold')\n",
    "plt.xlabel('time, seconds', fontsize='14', fontstyle='italic')\n",
    "plt.ylabel('potential, volts', fontsize='14', fontstyle='italic')\n",
    "plt.axes().grid(True)\n",
    "\n",
    "plt.plot(timepoints, ydata,marker='o',markersize=4,linestyle='none',markerfacecolor='red')\n",
    "plt.ylim(yrange)\n",
    "fig2.show()\n",
    "\n",
    "sio.savemat('data.mat',channels)"
   ]
  }
 ],
 "metadata": {
  "kernelspec": {
   "display_name": "epss171",
   "language": "python",
   "name": "epss171"
  },
  "language_info": {
   "codemirror_mode": {
    "name": "ipython",
    "version": 3
   },
   "file_extension": ".py",
   "mimetype": "text/x-python",
   "name": "python",
   "nbconvert_exporter": "python",
   "pygments_lexer": "ipython3",
   "version": "3.7.2"
  }
 },
 "nbformat": 4,
 "nbformat_minor": 2
}
