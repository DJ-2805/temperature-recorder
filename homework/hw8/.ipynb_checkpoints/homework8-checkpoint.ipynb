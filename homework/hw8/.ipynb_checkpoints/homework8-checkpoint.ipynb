{
 "cells": [
  {
   "cell_type": "code",
   "execution_count": 1,
   "metadata": {},
   "outputs": [],
   "source": [
    "import dataAcquisition as daq\n",
    "import matplotlib.pyplot as plt\n",
    "from time import perf_counter,time,sleep\n",
    "from numpy import median,std\n",
    "from scipy.io import loadmat"
   ]
  },
  {
   "cell_type": "code",
   "execution_count": 2,
   "metadata": {},
   "outputs": [
    {
     "name": "stdout",
     "output_type": "stream",
     "text": [
      "Channel 0: 2.468 V\n",
      "Channel 1: 2.434 V\n",
      "Channel 2: 2.4535 V\n",
      "Channel 3: 2.473 V\n",
      "Channel 4: 2.517 V\n",
      "Channel 5: 2.556 V\n",
      "readings nominal\n"
     ]
    }
   ],
   "source": [
    "port = '/dev/ttyUSB0'\n",
    "res = [9.88,10.04,9.83,10,9.97,10]\n",
    "dur = 7200\n",
    "step = 1\n",
    "\n",
    "hal9001 = daq.DAQ(port,res,dur,step)\n",
    "\n",
    "a = 9.57e-04\n",
    "b = 3.15e-04\n",
    "c = -1.17e-05\n",
    "d = 6.23e-07"
   ]
  },
  {
   "cell_type": "code",
   "execution_count": 3,
   "metadata": {},
   "outputs": [
    {
     "name": "stdout",
     "output_type": "stream",
     "text": [
      "<dataAcquisition.Channel object at 0x7fe90da83ba8> 26.001393040074902\n",
      "<dataAcquisition.Channel object at 0x7fe90da83c18> 26.258521808738692\n",
      "<dataAcquisition.Channel object at 0x7fe90da83d30> 26.386214942766458\n",
      "<dataAcquisition.Channel object at 0x7fe90da83dd8> 25.631172261558334\n",
      "<dataAcquisition.Channel object at 0x7fe90da83d68> 24.708188065147056\n",
      "<dataAcquisition.Channel object at 0x7fe90da83eb8> 24.108555683784573\n"
     ]
    }
   ],
   "source": [
    "for i in hal9001:\n",
    "    volt = i.readVoltage()\n",
    "    res = i.calcResistance(volt)\n",
    "    temp = i.calcTemperature(res,a,b,c,d)\n",
    "    print(i,temp)"
   ]
  },
  {
   "cell_type": "code",
   "execution_count": 5,
   "metadata": {
    "scrolled": false
   },
   "outputs": [
    {
     "name": "stdout",
     "output_type": "stream",
     "text": [
      "<dataAcquisition.Channel object at 0x7fe90da83ba8> 26.001393040074902\n",
      "<dataAcquisition.Channel object at 0x7fe90da83c18> 26.258521808738692\n",
      "<dataAcquisition.Channel object at 0x7fe90da83d30> 26.293817772923717\n",
      "<dataAcquisition.Channel object at 0x7fe90da83dd8> 25.088763439156025\n",
      "<dataAcquisition.Channel object at 0x7fe90da83d68> 23.638171672872204\n",
      "<dataAcquisition.Channel object at 0x7fe90da83eb8> 22.85877795573691\n",
      "<dataAcquisition.Channel object at 0x7fe90da83ba8> 26.001393040074902\n",
      "<dataAcquisition.Channel object at 0x7fe90da83c18> 26.166150909205044\n",
      "<dataAcquisition.Channel object at 0x7fe90da83d30> 26.118393539558497\n",
      "<dataAcquisition.Channel object at 0x7fe90da83dd8> 25.18059362989362\n",
      "<dataAcquisition.Channel object at 0x7fe90da83d68> 24.351018779738695\n",
      "<dataAcquisition.Channel object at 0x7fe90da83eb8> 23.660962803789914\n",
      "<dataAcquisition.Channel object at 0x7fe90da83ba8> 25.909183983685807\n",
      "<dataAcquisition.Channel object at 0x7fe90da83c18> 26.073830422582887\n",
      "<dataAcquisition.Channel object at 0x7fe90da83d30> 26.026132128590746\n",
      "<dataAcquisition.Channel object at 0x7fe90da83dd8> 24.9969737013418\n",
      "<dataAcquisition.Channel object at 0x7fe90da83d68> 23.90298830673521\n",
      "<dataAcquisition.Channel object at 0x7fe90da83eb8> 23.214053030318098\n",
      "<dataAcquisition.Channel object at 0x7fe90da83ba8> 25.909183983685807\n",
      "<dataAcquisition.Channel object at 0x7fe90da83c18> 25.990784428464508\n",
      "<dataAcquisition.Channel object at 0x7fe90da83d30> 25.84174433303002\n",
      "<dataAcquisition.Channel object at 0x7fe90da83dd8> 24.731005044585572\n",
      "<dataAcquisition.Channel object at 0x7fe90da83d68> 23.546910580314204\n",
      "<dataAcquisition.Channel object at 0x7fe90da83eb8> 23.122922802875564\n",
      "<dataAcquisition.Channel object at 0x7fe90da83ba8> 25.817020139271165\n",
      "<dataAcquisition.Channel object at 0x7fe90da83c18> 25.990784428464508\n",
      "<dataAcquisition.Channel object at 0x7fe90da83d30> 25.749616373809374\n",
      "<dataAcquisition.Channel object at 0x7fe90da83dd8> 25.088763439156025\n",
      "<dataAcquisition.Channel object at 0x7fe90da83d68> 24.53411564621581\n",
      "<dataAcquisition.Channel object at 0x7fe90da83eb8> 23.743119876841718\n",
      "<dataAcquisition.Channel object at 0x7fe90da83ba8> 25.817020139271165\n",
      "<dataAcquisition.Channel object at 0x7fe90da83c18> 25.89855753067809\n",
      "<dataAcquisition.Channel object at 0x7fe90da83d30> 25.749616373809374\n",
      "<dataAcquisition.Channel object at 0x7fe90da83dd8> 24.731005044585572\n",
      "<dataAcquisition.Channel object at 0x7fe90da83d68> 23.373588137546562\n",
      "<dataAcquisition.Channel object at 0x7fe90da83eb8> 22.949840770001344\n",
      "<dataAcquisition.Channel object at 0x7fe90da83ba8> 25.72490071925273\n",
      "<dataAcquisition.Channel object at 0x7fe90da83c18> 25.806378737938132\n",
      "<dataAcquisition.Channel object at 0x7fe90da83d30> 25.666737922476273\n",
      "<dataAcquisition.Channel object at 0x7fe90da83dd8> 24.9969737013418\n",
      "<dataAcquisition.Channel object at 0x7fe90da83d68> 24.177201641366935\n",
      "<dataAcquisition.Channel object at 0x7fe90da83eb8> 23.214053030318098\n",
      "<dataAcquisition.Channel object at 0x7fe90da83ba8> 25.72490071925273\n",
      "<dataAcquisition.Channel object at 0x7fe90da83c18> 25.714247257875513\n",
      "<dataAcquisition.Channel object at 0x7fe90da83d30> 25.574690825778703\n",
      "<dataAcquisition.Channel object at 0x7fe90da83dd8> 25.44713714710798\n",
      "<dataAcquisition.Channel object at 0x7fe90da83d68> 25.06591536270571\n",
      "<dataAcquisition.Channel object at 0x7fe90da83eb8> 23.92577645476689\n",
      "<dataAcquisition.Channel object at 0x7fe90da83ba8> 25.632824937604994\n",
      "<dataAcquisition.Channel object at 0x7fe90da83c18> 25.714247257875513\n",
      "<dataAcquisition.Channel object at 0x7fe90da83d30> 25.666737922476273\n",
      "<dataAcquisition.Channel object at 0x7fe90da83dd8> 25.355185231757616\n",
      "<dataAcquisition.Channel object at 0x7fe90da83d68> 24.25952125278252\n",
      "<dataAcquisition.Channel object at 0x7fe90da83eb8> 23.122922802875564\n",
      "<dataAcquisition.Channel object at 0x7fe90da83ba8> 25.632824937604994\n",
      "<dataAcquisition.Channel object at 0x7fe90da83c18> 25.631368724637014\n",
      "<dataAcquisition.Channel object at 0x7fe90da83d30> 25.666737922476273\n",
      "<dataAcquisition.Channel object at 0x7fe90da83dd8> 25.80617251183503\n",
      "<dataAcquisition.Channel object at 0x7fe90da83d68> 25.249596638499952\n",
      "<dataAcquisition.Channel object at 0x7fe90da83eb8> 23.834433216485877\n",
      "<dataAcquisition.Channel object at 0x7fe90da83ba8> 25.549993396498735\n",
      "<dataAcquisition.Channel object at 0x7fe90da83c18> 25.631368724637014\n",
      "<dataAcquisition.Channel object at 0x7fe90da83d30> 25.749616373809374\n",
      "<dataAcquisition.Channel object at 0x7fe90da83dd8> 26.165916225739693\n",
      "<dataAcquisition.Channel object at 0x7fe90da83d68> 25.608255586555686\n",
      "<dataAcquisition.Channel object at 0x7fe90da83eb8> 23.834433216485877\n",
      "<dataAcquisition.Channel object at 0x7fe90da83ba8> 25.549993396498735\n",
      "<dataAcquisition.Channel object at 0x7fe90da83c18> 25.631368724637014\n",
      "<dataAcquisition.Channel object at 0x7fe90da83d30> 25.84174433303002\n",
      "<dataAcquisition.Channel object at 0x7fe90da83dd8> 26.082833116683616\n",
      "<dataAcquisition.Channel object at 0x7fe90da83d68> 24.891565366486873\n",
      "<dataAcquisition.Channel object at 0x7fe90da83eb8> 23.38726920483299\n",
      "<dataAcquisition.Channel object at 0x7fe90da83ba8> 25.549993396498735\n",
      "<dataAcquisition.Channel object at 0x7fe90da83c18> 25.631368724637014\n",
      "<dataAcquisition.Channel object at 0x7fe90da83d30> 25.84174433303002\n",
      "<dataAcquisition.Channel object at 0x7fe90da83dd8> 26.804266263604745\n",
      "<dataAcquisition.Channel object at 0x7fe90da83d68> 26.420086031852122\n",
      "<dataAcquisition.Channel object at 0x7fe90da83eb8> 24.28231513277234\n",
      "<dataAcquisition.Channel object at 0x7fe90da83ba8> 25.549993396498735\n",
      "<dataAcquisition.Channel object at 0x7fe90da83c18> 25.714247257875513\n",
      "<dataAcquisition.Channel object at 0x7fe90da83d30> 26.026132128590746\n",
      "<dataAcquisition.Channel object at 0x7fe90da83dd8> 26.804266263604745\n",
      "<dataAcquisition.Channel object at 0x7fe90da83d68> 25.8753851206547\n",
      "<dataAcquisition.Channel object at 0x7fe90da83eb8> 23.834433216485877\n",
      "<dataAcquisition.Channel object at 0x7fe90da83ba8> 25.45799836764229\n",
      "<dataAcquisition.Channel object at 0x7fe90da83c18> 25.714247257875513\n",
      "<dataAcquisition.Channel object at 0x7fe90da83d30> 26.118393539558497\n",
      "<dataAcquisition.Channel object at 0x7fe90da83dd8> 26.71159516708269\n",
      "<dataAcquisition.Channel object at 0x7fe90da83d68> 25.608255586555686\n",
      "<dataAcquisition.Channel object at 0x7fe90da83eb8> 23.743119876841718\n",
      "<dataAcquisition.Channel object at 0x7fe90da83ba8> 25.549993396498735\n",
      "<dataAcquisition.Channel object at 0x7fe90da83c18> 25.806378737938132\n",
      "<dataAcquisition.Channel object at 0x7fe90da83d30> 26.201468169193674\n",
      "<dataAcquisition.Channel object at 0x7fe90da83dd8> 27.073327561000326\n",
      "<dataAcquisition.Channel object at 0x7fe90da83d68> 26.512580704899733\n",
      "<dataAcquisition.Channel object at 0x7fe90da83eb8> 24.46535115366669\n",
      "<dataAcquisition.Channel object at 0x7fe90da83ba8> 25.549993396498735\n",
      "<dataAcquisition.Channel object at 0x7fe90da83c18> 25.806378737938132\n",
      "<dataAcquisition.Channel object at 0x7fe90da83d30> 26.293817772923717\n",
      "<dataAcquisition.Channel object at 0x7fe90da83dd8> 26.350690231772774\n",
      "<dataAcquisition.Channel object at 0x7fe90da83d68> 24.98331098000034\n",
      "<dataAcquisition.Channel object at 0x7fe90da83eb8> 23.38726920483299\n",
      "<dataAcquisition.Channel object at 0x7fe90da83ba8> 25.549993396498735\n",
      "<dataAcquisition.Channel object at 0x7fe90da83c18> 25.89855753067809\n",
      "<dataAcquisition.Channel object at 0x7fe90da83d30> 26.293817772923717\n",
      "<dataAcquisition.Channel object at 0x7fe90da83dd8> 26.535669287817825\n",
      "<dataAcquisition.Channel object at 0x7fe90da83d68> 25.608255586555686\n",
      "<dataAcquisition.Channel object at 0x7fe90da83eb8> 23.834433216485877\n",
      "<dataAcquisition.Channel object at 0x7fe90da83ba8> 25.549993396498735\n",
      "<dataAcquisition.Channel object at 0x7fe90da83c18> 25.89855753067809\n",
      "<dataAcquisition.Channel object at 0x7fe90da83d30> 26.293817772923717\n",
      "<dataAcquisition.Channel object at 0x7fe90da83dd8> 26.443153727927267\n",
      "<dataAcquisition.Channel object at 0x7fe90da83d68> 25.516229348567094\n",
      "<dataAcquisition.Channel object at 0x7fe90da83eb8> 24.01715035560329\n",
      "<dataAcquisition.Channel object at 0x7fe90da83ba8> 25.632824937604994\n",
      "<dataAcquisition.Channel object at 0x7fe90da83c18> 25.89855753067809\n",
      "<dataAcquisition.Channel object at 0x7fe90da83d30> 26.201468169193674\n",
      "<dataAcquisition.Channel object at 0x7fe90da83dd8> 25.80617251183503\n",
      "<dataAcquisition.Channel object at 0x7fe90da83d68> 24.351018779738695\n",
      "<dataAcquisition.Channel object at 0x7fe90da83eb8> 23.122922802875564\n",
      "<dataAcquisition.Channel object at 0x7fe90da83ba8> 25.549993396498735\n",
      "<dataAcquisition.Channel object at 0x7fe90da83c18> 25.89855753067809\n",
      "<dataAcquisition.Channel object at 0x7fe90da83d30> 26.118393539558497\n",
      "<dataAcquisition.Channel object at 0x7fe90da83dd8> 25.80617251183503\n",
      "<dataAcquisition.Channel object at 0x7fe90da83d68> 25.06591536270571\n",
      "<dataAcquisition.Channel object at 0x7fe90da83eb8> 23.743119876841718\n",
      "<dataAcquisition.Channel object at 0x7fe90da83ba8> 25.632824937604994\n",
      "<dataAcquisition.Channel object at 0x7fe90da83c18> 25.89855753067809\n",
      "<dataAcquisition.Channel object at 0x7fe90da83d30> 26.026132128590746\n",
      "<dataAcquisition.Channel object at 0x7fe90da83dd8> 25.355185231757616\n",
      "<dataAcquisition.Channel object at 0x7fe90da83d68> 24.25952125278252\n",
      "<dataAcquisition.Channel object at 0x7fe90da83eb8> 23.214053030318098\n",
      "<dataAcquisition.Channel object at 0x7fe90da83ba8> 25.549993396498735\n",
      "<dataAcquisition.Channel object at 0x7fe90da83c18> 25.806378737938132\n",
      "<dataAcquisition.Channel object at 0x7fe90da83d30> 25.84174433303002\n",
      "<dataAcquisition.Channel object at 0x7fe90da83dd8> 24.914396881681682\n",
      "<dataAcquisition.Channel object at 0x7fe90da83d68> 23.81164473704655\n",
      "<dataAcquisition.Channel object at 0x7fe90da83eb8> 23.031816541188505\n"
     ]
    }
   ],
   "source": [
    "start_time = time()\n",
    "timepoints = []\n",
    "view_time = 5\n",
    "duration = dur\n",
    "pause = step\n",
    "\n",
    "run = True;\n",
    "\n",
    "counter = 0\n",
    "while run:\n",
    "    timepoints.append(time()-start_time)\n",
    "    current_time = timepoints[-1]\n",
    "    \n",
    "    j = 0\n",
    "    for i in hal9001:\n",
    "        temp = i.calcTemperature(i.calcResistance(i.readVoltage()),a,b,c,d)\n",
    "        i.recoValue(counter,temp)\n",
    "        j+=1\n",
    "    counter+=1\n",
    "    \n",
    "    if(counter%300 == 0):\n",
    "        hal9001.saveData()\n",
    "        for i in hal9001:\n",
    "            volt = i.readVoltage()\n",
    "            res = i.calcResistance(volt)\n",
    "            temp = i.calcTemperature(res,a,b,c,d)\n",
    "            print(i,temp)\n",
    "        \n",
    "        \n",
    "    if timepoints[-1] > duration:\n",
    "        run=False\n",
    "        \n",
    "    sleep(pause)\n",
    "    \n",
    "hal9001.cleanData()\n",
    "hal9001.saveData()"
   ]
  },
  {
   "cell_type": "code",
   "execution_count": 3,
   "metadata": {},
   "outputs": [],
   "source": [
    "data = loadmat('20190305-2132data.mat')\n",
    "time = loadmat('timedata.mat')"
   ]
  },
  {
   "cell_type": "code",
   "execution_count": 10,
   "metadata": {},
   "outputs": [
    {
     "data": {
      "text/plain": [
       "array([1.18756294e-03, 1.00250602e+00, 2.00391603e+00, ...,\n",
       "       7.19873691e+03, 7.19973828e+03, 7.20073924e+03])"
      ]
     },
     "execution_count": 10,
     "metadata": {},
     "output_type": "execute_result"
    }
   ],
   "source": [
    "channels = []\n",
    "channels.append(data['0'][0])\n",
    "channels.append(data['1'][0])\n",
    "channels.append(data['2'][0])\n",
    "channels.append(data['3'][0])\n",
    "channels.append(data['4'][0])\n",
    "channels.append(data['5'][0])\n",
    "timepoints = time['time'][0]"
   ]
  },
  {
   "cell_type": "code",
   "execution_count": null,
   "metadata": {},
   "outputs": [],
   "source": [
    "# plot all of the data you collected\n",
    "fig2 = plt.figure()\n",
    "# http://matplotlib.org/users/text_props.html\n",
    "fig2.suptitle('Complete Data Trace', fontsize='18', fontweight='bold')\n",
    "plt.xlabel('Time [s]', fontsize='14', fontstyle='italic')\n",
    "plt.ylabel('Temperature [deg. K]', fontsize='14', fontstyle='italic')\n",
    "plt.axes().grid(True)\n",
    "\n",
    "j = 0\n",
    "for i in hal9001:\n",
    "    plt.plot(timepoints,i.data,styles[j],label=labels[j])\n",
    "    j+=1\n",
    "    \n",
    "plt.legend()\n",
    "fig2.show()"
   ]
  }
 ],
 "metadata": {
  "kernelspec": {
   "display_name": "epss171",
   "language": "python",
   "name": "epss171"
  },
  "language_info": {
   "codemirror_mode": {
    "name": "ipython",
    "version": 3
   },
   "file_extension": ".py",
   "mimetype": "text/x-python",
   "name": "python",
   "nbconvert_exporter": "python",
   "pygments_lexer": "ipython3",
   "version": "3.7.2"
  }
 },
 "nbformat": 4,
 "nbformat_minor": 2
}
