{
 "cells": [
  {
   "cell_type": "markdown",
   "metadata": {},
   "source": [
    "# Midterm Open Questions\n",
    "- Why is there systematic trend in the q(z) values? What controls this trend?\n",
    "- And what would happen to q if random noise was (realistcally) included in this synthetic data set?"
   ]
  },
  {
   "cell_type": "code",
   "execution_count": 1,
   "metadata": {},
   "outputs": [],
   "source": [
    "# math library\n",
    "import numpy as np\n",
    "\n",
    "# plotting library\n",
    "import matplotlib.pyplot as plt\n",
    "\n",
    "# scientific library\n",
    "# helps with pulling .dat files\n",
    "import scipy.io as sio"
   ]
  },
  {
   "cell_type": "code",
   "execution_count": 3,
   "metadata": {},
   "outputs": [],
   "source": [
    "K = 0.03 \n",
    "rho = 1300\n",
    "C = 650\n",
    "kappa = K/(rho*C)\n",
    "\n",
    "T0 = -42\n",
    "\n",
    "A_D = 36\n",
    "Per_D = 88642.663\n",
    "delta_D = np.sqrt(kappa*Per_D/np.pi)\n",
    "\n",
    "A_Y = 11\n",
    "Per_Y = 668.5991*Per_D\n",
    "q = 0.031\n",
    "\n",
    "zmin = 0.50\n",
    "zmax = 4.5\n",
    "step = (zmax-zmin)/14\n",
    "z = np.arange(zmin,zmax,step)\n",
    "\n",
    "tmax = Per_Y\n",
    "t = np.arange(0,tmax,Per_D/1)"
   ]
  },
  {
   "cell_type": "code",
   "execution_count": 4,
   "metadata": {},
   "outputs": [],
   "source": [
    "tt,zz = np.meshgrid(t,z)"
   ]
  },
  {
   "cell_type": "markdown",
   "metadata": {},
   "source": [
    "# Problem 1\n",
    "1. Make Plots to determine how the systematic trend in q(z) is affected by\n",
    "    - Changing the amplitude of the daily thermal wave\n",
    "    - Changing the amplitude of the sesonal thermal wave\n",
    "    - Increasing the number of temperature measurements made per day\n",
    "2. At $24 \\frac{samples}{day}$, to what degree will such trends affect the inSight mission q measurements?"
   ]
  },
  {
   "cell_type": "markdown",
   "metadata": {},
   "source": [
    "# Problem 2\n",
    "1. For our estimates of Martian conditions, make a plot showing how much random noise (as formulated in the Midterm Key) can be added to the system without compromising the q measurements.\n",
    "    - Determine for what noise amplitude (if any) the measured heat flux departs from the known value by > 20%\n",
    "    - With estimates of 6.5 milliKelvin variations on their thermistors, is noise likely to be an issure for the inSight mission?"
   ]
  }
 ],
 "metadata": {
  "kernelspec": {
   "display_name": "epss171",
   "language": "python",
   "name": "epss171"
  },
  "language_info": {
   "codemirror_mode": {
    "name": "ipython",
    "version": 3
   },
   "file_extension": ".py",
   "mimetype": "text/x-python",
   "name": "python",
   "nbconvert_exporter": "python",
   "pygments_lexer": "ipython3",
   "version": "3.7.2"
  }
 },
 "nbformat": 4,
 "nbformat_minor": 2
}
