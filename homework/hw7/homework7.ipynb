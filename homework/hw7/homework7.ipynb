{
 "cells": [
  {
   "cell_type": "code",
   "execution_count": 1,
   "metadata": {},
   "outputs": [],
   "source": [
    "%matplotlib notebook\n",
    "import dataAcquisition as daq\n",
    "import matplotlib.pyplot as plt\n",
    "from time import perf_counter,time,sleep\n",
    "from numpy import median,std"
   ]
  },
  {
   "cell_type": "code",
   "execution_count": 2,
   "metadata": {},
   "outputs": [
    {
     "name": "stdout",
     "output_type": "stream",
     "text": [
      "readings nominal\n"
     ]
    }
   ],
   "source": [
    "port = '/dev/ttyUSB0'\n",
    "res = [9.88,10.04,9.83,10,9.97,10]\n",
    "dur = 60\n",
    "step = 1\n",
    "\n",
    "hal9001 = daq.DAQ(port,res,dur,step)\n",
    "\n",
    "a = 9.57e-04\n",
    "b = 3.15e-04\n",
    "c = -1.17e-05\n",
    "d = 6.23e-07"
   ]
  },
  {
   "cell_type": "code",
   "execution_count": 7,
   "metadata": {},
   "outputs": [
    {
     "name": "stdout",
     "output_type": "stream",
     "text": [
      "<dataAcquisition.Channel object at 0x7fccc01b76d8> 65.03011953694727\n",
      "<dataAcquisition.Channel object at 0x7fccc01b7748> 64.98358670297125\n",
      "<dataAcquisition.Channel object at 0x7fccc01b77b8> 65.54371029260369\n",
      "<dataAcquisition.Channel object at 0x7fccc01b7828> 65.02315919137266\n",
      "<dataAcquisition.Channel object at 0x7fccc01b78d0> 64.92240896585088\n",
      "<dataAcquisition.Channel object at 0x7fccc01b7940> 62.245486178328974\n"
     ]
    }
   ],
   "source": [
    "for i in hal9001:\n",
    "    volt = i.readVoltage()\n",
    "    res = i.calcResistance(volt)\n",
    "    temp = i.calcTemperature(res,a,b,c,d)\n",
    "    print(i,temp - 273.15)"
   ]
  },
  {
   "cell_type": "code",
   "execution_count": null,
   "metadata": {
    "scrolled": false
   },
   "outputs": [],
   "source": [
    "plt.ion()\n",
    "\n",
    "start_time = time()\n",
    "timepoints = []\n",
    "view_time = 5\n",
    "duration = dur\n",
    "pause = step\n",
    "\n",
    "timeDuraction = {\n",
    "    'loop':[],\n",
    "    'reads':[],\n",
    "    'plot':[],\n",
    "    'save':[],\n",
    "    'pause':[]\n",
    "}\n",
    "\n",
    "fig1 = plt.figure()\n",
    "# http://matplotlib.org/users/text_props.html\n",
    "fig1.suptitle('live updated data', fontsize='18', fontweight='bold')\n",
    "plt.xlabel('Time [s]', fontsize='14', fontstyle='italic')\n",
    "plt.ylabel('Temperature [deg. C]', fontsize='14', fontstyle='italic')\n",
    "plt.axes().grid(True)\n",
    "\n",
    "styles = ['rd','bo','ks','g^','y+','mp']\n",
    "labels = ['T1','T2','T3','T4','T5','T6']\n",
    "\n",
    "plt.xlim([0,view_time])\n",
    "\n",
    "run = True;\n",
    "\n",
    "counter = 0\n",
    "while run:\n",
    "    startLoop = perf_counter()\n",
    "    timepoints.append(time()-start_time)\n",
    "    current_time = timepoints[-1]\n",
    "    \n",
    "    j = 0\n",
    "    startRead = perf_counter()\n",
    "    for i in hal9001:\n",
    "        temp = i.calcTemperature(i.calcResistance(i.readVoltage()),a,b,c,d)\n",
    "        i.recoValue(counter,temp)\n",
    "        # update the plotted data\n",
    "        plt.plot(timepoints,i.data[i.data!=0],styles[j])\n",
    "        j+=1\n",
    "    endRead = perf_counter()\n",
    "    timeDuraction['reads'].append(endRead-startRead)\n",
    "    counter+=1\n",
    "    \n",
    "    startSave = perf_counter()\n",
    "    hal9001.saveData()\n",
    "    endSave = perf_counter()\n",
    "    timeDuraction['save'].append(endSave-startSave)\n",
    "        \n",
    "    # slide the viewing frame along\n",
    "    if current_time > view_time:\n",
    "        plt.xlim([current_time-view_time,current_time])\n",
    "    \n",
    "    if timepoints[-1] > duration: run=False\n",
    "        \n",
    "    # update the plot\n",
    "    startPlot = perf_counter()\n",
    "    fig1.canvas.draw()\n",
    "    endPlot = perf_counter()\n",
    "    timeDuraction['plot'].append(endPlot-startPlot)\n",
    "    \n",
    "    startPause = perf_counter()\n",
    "    sleep(pause)\n",
    "    endPause = perf_counter()\n",
    "    timeDuraction['pause'].append(endPause-startPause)\n",
    "    \n",
    "    endLoop = perf_counter()\n",
    "    timeDuraction['loop'].append(endLoop-startLoop)\n",
    "    \n",
    "hal9001.cleanData()\n",
    "startSave = perf_counter()\n",
    "hal9001.saveData()\n",
    "endSave = perf_counter()\n",
    "timeDuraction['save'].append(endSave-startSave)\n",
    "    \n",
    "# # plot all of the data you collected\n",
    "# fig2 = plt.figure()\n",
    "# # http://matplotlib.org/users/text_props.html\n",
    "# fig2.suptitle('Complete Data Trace', fontsize='18', fontweight='bold')\n",
    "# plt.xlabel('Time [s]', fontsize='14', fontstyle='italic')\n",
    "# plt.ylabel('Temperature [deg. K]', fontsize='14', fontstyle='italic')\n",
    "# plt.axes().grid(True)\n",
    "\n",
    "# hal9001.cleanData()\n",
    "# for i in hal9001:\n",
    "#     plt.plot(timepoints,i.data,styles[i],label=labels[i])\n",
    "# plt.legend()\n",
    "# fig2.show()"
   ]
  },
  {
   "cell_type": "markdown",
   "metadata": {},
   "source": [
    "### Problem 1"
   ]
  },
  {
   "cell_type": "code",
   "execution_count": null,
   "metadata": {},
   "outputs": [],
   "source": [
    "fig2, ((ax1),(ax2)) = plt.subplots(1,2,figsize=(20,10))\n",
    "colors = ['r-D','b-o','k-s','g-^','y-+']\n",
    "j = 0\n",
    "for i in timeDuraction:\n",
    "    currentLabel = i + ': %1.3f +/- %1.3f' %\n",
    "    (median(timeDuraction[i]),std(timeDuraction[i]))\n",
    "    \n",
    "    ax1.plot(timepoints,timeDuraction[i],colors[j],label=currentLabel)\n",
    "        \n",
    "    ax2.semilogy(timepoints,timeDuraction[i],colors[j],label=i)\n",
    "    j+=1\n",
    "    \n",
    "ax1.legend()\n",
    "ax1.set_xlabel('Iteration')\n",
    "ax1.set_ylabel('Duration [s]')\n",
    "ax1.set_title('linear')\n",
    "\n",
    "ax2.legend()\n",
    "ax2.set_xlabel('Iteration')\n",
    "ax2.set_ylabel('Duration [s]')\n",
    "ax2.set_title('semilogy')\n",
    "\n",
    "fig2.savefig('problem1.png')"
   ]
  },
  {
   "cell_type": "code",
   "execution_count": null,
   "metadata": {},
   "outputs": [],
   "source": [
    "for i in timeDuraction:\n",
    "    value = '%1.3f +/- %1.3f' % (median(timeDuraction[i]),std(timeDuraction[i]))\n",
    "    print(i,value)"
   ]
  },
  {
   "cell_type": "markdown",
   "metadata": {},
   "source": [
    "### Problem 2"
   ]
  },
  {
   "cell_type": "code",
   "execution_count": null,
   "metadata": {},
   "outputs": [],
   "source": [
    "import numpy as np\n",
    "\n",
    "diffV = np.arange(0,5,.005)\n",
    "\n",
    "def temp(a,b,c,d,res):\n",
    "    return (a+b*np.log(res)+c*np.log(res)**2+d*np.log(res)**3)**(-1)\n",
    "\n",
    "def res(voltRead):\n",
    "    return voltRead/(5-voltRead)*10\n",
    "\n",
    "diffT = temp(a,b,c,d,res(diffV))\n",
    "\n",
    "delT = []\n",
    "for i in range(1,len(diffT)):\n",
    "    delT.append(diffT[i-1]-diffT[i])"
   ]
  },
  {
   "cell_type": "code",
   "execution_count": null,
   "metadata": {},
   "outputs": [],
   "source": [
    "delT100 = []\n",
    "for i in delT:\n",
    "    if(i > 0 and i <= 1):\n",
    "        delT100.append(i)\n",
    "T = np.linspace(0,100,len(delT100))"
   ]
  },
  {
   "cell_type": "code",
   "execution_count": null,
   "metadata": {},
   "outputs": [],
   "source": [
    "fig3 = plt.figure(figsize=(20,10))\n",
    "plt.plot(T,delT100,'o')\n",
    "plt.xlabel('Temperature, T[deg.C]')\n",
    "plt.ylabel('Resolution, delT [deg.C]')\n",
    "fig3.savefig('problem2.png')"
   ]
  },
  {
   "cell_type": "markdown",
   "metadata": {},
   "source": [
    "### Conclusions\n",
    "#### Problem 1\n",
    "I put the median and standard deviation in my legend to get a better idea of the time variance. My largest factor with the largest variability seems to be my loop currently, which makes sense, because I know I currently have some extra functions that allow me to plot in real-time. The '%matplotlib notebook' at the top of my workbook is an extra line I inserted, which puts my plots in javascript wrapper to be rendered in real-time along with me using plt.ion() to allow interaction. This unfortunately also slows down plotting (which also has a large std) which leads to why my loop has a larger std. I am addressing this by making my own GUI, but didn't finish it in time to compare for a time check against this wapper."
   ]
  }
 ],
 "metadata": {
  "kernelspec": {
   "display_name": "epss171",
   "language": "python",
   "name": "epss171"
  },
  "language_info": {
   "codemirror_mode": {
    "name": "ipython",
    "version": 3
   },
   "file_extension": ".py",
   "mimetype": "text/x-python",
   "name": "python",
   "nbconvert_exporter": "python",
   "pygments_lexer": "ipython3",
   "version": "3.6.7"
  }
 },
 "nbformat": 4,
 "nbformat_minor": 2
}
