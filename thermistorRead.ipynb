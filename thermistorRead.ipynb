{
 "cells": [
  {
   "cell_type": "markdown",
   "metadata": {},
   "source": [
    "**Installation**\n",
    "1. Install the Arduino IDE on your machine\n",
    "2. Install the two libraries needed for pyfirmata to interact with the board (Sketch > Include Libraries > Manage Libraries)\n",
    "    - Firmata\n",
    "    - Servo\n",
    "3. Open the Standard Firmata sketch on the IDE (File > Examples > Firmata > StandardFirmata)\n",
    "4. Compile and upload the sketch onto your Arduino board\n",
    "\n",
    "At this point, the board should be uploading, and now we can interact with the board via Python\n",
    "- [Pyfirmata Examples](https://realpython.com/arduino-python/)\n",
    "- [Pyfirmata Documentation](https://pyfirmata.readthedocs.io/en/latest/)"
   ]
  },
  {
   "cell_type": "code",
   "execution_count": 6,
   "metadata": {},
   "outputs": [],
   "source": [
    "# %matplotlib notebook\n",
    "%matplotlib inline\n",
    "\n",
    "# the pyfirmata functions needed to interact with the board\n",
    "from pyfirmata import Arduino,util\n",
    "# math and plotting\n",
    "import numpy as np\n",
    "import matplotlib.pyplot as plt\n",
    "\n",
    "# time library\n",
    "import time\n",
    "\n",
    "# these help with making the plot live\n",
    "plt.rcParams['animation.html'] = 'jshtml'"
   ]
  },
  {
   "cell_type": "code",
   "execution_count": 5,
   "metadata": {},
   "outputs": [
    {
     "name": "stdout",
     "output_type": "stream",
     "text": [
      "Arduino /dev/ttyUSB0 on /dev/ttyUSB0\n"
     ]
    }
   ],
   "source": [
    "# this is dependent on the machine where the Arduino is located\n",
    "port = '/dev/ttyUSB0'\n",
    "# when this is run, you should see a blue light flash on your board\n",
    "# this will instantiate the board with the variable 'hal9001'\n",
    "hal9001 = Arduino(port)\n",
    "print(hal9001)\n",
    "\n",
    "it = util.Iterator(hal9001)\n",
    "it.start()\n",
    "\n",
    "therm1 = hal9001.get_pin('a:0:i')\n",
    "therm2 = hal9001.get_pin('a:1:i')\n",
    "\n",
    "# checking that there is output\n",
    "print(therm1,therm2)"
   ]
  },
  {
   "cell_type": "code",
   "execution_count": 9,
   "metadata": {},
   "outputs": [
    {
     "data": {
      "image/png": "[encoded data removed]",
      "text/plain": [
       "<Figure size 576x576 with 1 Axes>"
      ]
     },
     "metadata": {
      "needs_background": "light"
     },
     "output_type": "display_data"
    }
   ],
   "source": [
    "# creating figure\n",
    "fig = plt.figure(figsize=(8,8))\n",
    "# creating plot\n",
    "ax = fig.add_subplot(111)"
   ]
  },
  {
   "cell_type": "code",
   "execution_count": 10,
   "metadata": {},
   "outputs": [],
   "source": [
    "x, y = [], []\n",
    "for n in range(0,10):\n",
    "    x.append(n)\n",
    "    y.append(n)\n",
    "    \n",
    "    ax.plot(x,y, color='b')\n",
    "    fig.canvas.draw()\n",
    "    \n",
    "    # ax.set_xlim(left=max(0,i-50),right=i+50)\n",
    "    time.sleep(0.5)"
   ]
  }
 ],
 "metadata": {
  "kernelspec": {
   "display_name": "Python3Project",
   "language": "python",
   "name": "python3project"
  },
  "language_info": {
   "codemirror_mode": {
    "name": "ipython",
    "version": 3
   },
   "file_extension": ".py",
   "mimetype": "text/x-python",
   "name": "python",
   "nbconvert_exporter": "python",
   "pygments_lexer": "ipython3",
   "version": "3.8.2"
  }
 },
 "nbformat": 4,
 "nbformat_minor": 4
}
